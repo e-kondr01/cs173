{
 "nbformat": 4,
 "nbformat_minor": 2,
 "metadata": {
  "language_info": {
   "name": "python",
   "codemirror_mode": {
    "name": "ipython",
    "version": 3
   },
   "version": "3.7.5-final"
  },
  "orig_nbformat": 2,
  "file_extension": ".py",
  "mimetype": "text/x-python",
  "name": "python",
  "npconvert_exporter": "python",
  "pygments_lexer": "ipython3",
  "version": 3,
  "kernelspec": {
   "name": "python37564bit4c1039a1e4ec4fcba691ebcd58d04952",
   "display_name": "Python 3.7.5 64-bit"
  }
 },
 "cells": [
  {
   "cell_type": "code",
   "execution_count": 12,
   "metadata": {},
   "outputs": [
    {
     "name": "stdout",
     "output_type": "stream",
     "text": "301 401\n"
    }
   ],
   "source": [
    "from skimage.io import imread, imshow, imsave\n",
    "img = imread('img.png')\n",
    "x, y = img.shape[0] // 2 + 1, img.shape[1] // 2 + 1\n",
    "print(x, y)\n",
    "img[x, y] = [102, 204, 102]\n",
    "imsave('out_img.png', img)"
   ]
  },
  {
   "cell_type": "code",
   "execution_count": null,
   "metadata": {},
   "outputs": [],
   "source": []
  }
 ]
}