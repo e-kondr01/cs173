{
 "nbformat": 4,
 "nbformat_minor": 2,
 "metadata": {
  "language_info": {
   "name": "python",
   "codemirror_mode": {
    "name": "ipython",
    "version": 3
   },
   "version": "3.7.5-final"
  },
  "orig_nbformat": 2,
  "file_extension": ".py",
  "mimetype": "text/x-python",
  "name": "python",
  "npconvert_exporter": "python",
  "pygments_lexer": "ipython3",
  "version": 3,
  "kernelspec": {
   "name": "python37564bit4c1039a1e4ec4fcba691ebcd58d04952",
   "display_name": "Python 3.7.5 64-bit"
  }
 },
 "cells": [
  {
   "cell_type": "code",
   "execution_count": 1,
   "metadata": {},
   "outputs": [],
   "source": [
    "from math import cos, sin, radians\n",
    "from skimage.io import imread\n",
    "\n",
    "\n",
    "def rotate(img, a: int = 0, rad: bool = False):\n",
    "    x = img.shape[0]\n",
    "    y = img.shape[1]\n",
    "    if not rad:\n",
    "        a = radians(a)\n",
    "    new_x = int(x * abs(sin(a)) + y * abs(cos(a))) + 1\n",
    "    new_y = int(x * abs(cos(a)) + y * abs(sin(a))) + 1\n",
    "    return (new_x, new_y)"
   ]
  },
  {
   "cell_type": "code",
   "execution_count": 2,
   "metadata": {},
   "outputs": [
    {
     "output_type": "execute_result",
     "data": {
      "text/plain": "(322, 377, 3)"
     },
     "metadata": {},
     "execution_count": 2
    }
   ],
   "source": [
    "img = imread('test_image.png')\n",
    "img.shape"
   ]
  },
  {
   "cell_type": "code",
   "execution_count": 3,
   "metadata": {},
   "outputs": [
    {
     "output_type": "execute_result",
     "data": {
      "text/plain": "(468, 488)"
     },
     "metadata": {},
     "execution_count": 3
    }
   ],
   "source": [
    "rotate(img, 60)"
   ]
  },
  {
   "cell_type": "code",
   "execution_count": 4,
   "metadata": {},
   "outputs": [
    {
     "output_type": "execute_result",
     "data": {
      "text/plain": "(488, 468)"
     },
     "metadata": {},
     "execution_count": 4
    }
   ],
   "source": [
    "rotate(img, 30)"
   ]
  },
  {
   "cell_type": "code",
   "execution_count": 5,
   "metadata": {},
   "outputs": [
    {
     "output_type": "execute_result",
     "data": {
      "text/plain": "(465, 432)"
     },
     "metadata": {},
     "execution_count": 5
    }
   ],
   "source": [
    "rotate(img, 200)"
   ]
  },
  {
   "cell_type": "code",
   "execution_count": null,
   "metadata": {},
   "outputs": [],
   "source": []
  }
 ]
}